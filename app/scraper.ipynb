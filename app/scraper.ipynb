{
 "cells": [
  {
   "cell_type": "code",
   "execution_count": 1,
   "metadata": {},
   "outputs": [],
   "source": [
    "import time\n",
    "from tqdm import tqdm\n",
    "from selenium import webdriver\n",
    "from selenium.webdriver.chrome.service import Service"
   ]
  },
  {
   "cell_type": "markdown",
   "metadata": {},
   "source": [
    "https://googlechromelabs.github.io/chrome-for-testing/"
   ]
  },
  {
   "cell_type": "code",
   "execution_count": 2,
   "metadata": {},
   "outputs": [
    {
     "name": "stdout",
     "output_type": "stream",
     "text": [
      "STATUS: scraping page 1\n"
     ]
    },
    {
     "name": "stderr",
     "output_type": "stream",
     "text": [
      "100%|██████████| 5000/5000 [02:38<00:00, 31.59it/s]\n"
     ]
    },
    {
     "name": "stdout",
     "output_type": "stream",
     "text": [
      "STATUS: Driver quit\n",
      "STATUS: scraping page 2\n"
     ]
    },
    {
     "name": "stderr",
     "output_type": "stream",
     "text": [
      "100%|██████████| 5000/5000 [02:03<00:00, 40.63it/s]\n"
     ]
    },
    {
     "name": "stdout",
     "output_type": "stream",
     "text": [
      "STATUS: Driver quit\n",
      "STATUS: scraping page 3\n",
      "STATUS: Page is not exist\n"
     ]
    }
   ],
   "source": [
    "service = Service(\"C:\\chromedriver120\\chromedriver\")\n",
    "option = webdriver.ChromeOptions()\n",
    "\n",
    "post_ids = [x for x in range(3000, 8000)]\n",
    "data = {\"id\": [], \"branch_name\": [], \"branch_address\": []}\n",
    "\n",
    "page = 1\n",
    "while True:\n",
    "    print(f\"STATUS: scraping page {page}\")\n",
    "    try:\n",
    "        if page == 1:\n",
    "            URL = f\"https://zuscoffee.com/category/store/melaka/\"\n",
    "        else:\n",
    "            URL = f\"https://zuscoffee.com/category/store/melaka/page/{page}\"\n",
    "        driver = webdriver.Chrome(service=service, options=option)\n",
    "        driver.get(URL)\n",
    "        driver.maximize_window()\n",
    "\n",
    "        try:\n",
    "            page_404_xpath = '//*[@id=\"content\"]/div/div/div/section/div/div/div/div/div/div[1]/div/h1'\n",
    "            request_status = driver.find_element(\"xpath\", page_404_xpath).text\n",
    "            if request_status == \"404\":\n",
    "                driver.quit()\n",
    "                print(\"STATUS: Page is not exist\")\n",
    "                break\n",
    "        except:\n",
    "            pass\n",
    "\n",
    "        for id_num in tqdm(post_ids):\n",
    "            try:\n",
    "                branch_name_xpath = f'//*[@id=\"post-{id_num}\"]/div/div/section[1]/div/div/div/div/div/div[1]/div'\n",
    "                address_xpath = f'//*[@id=\"post-{id_num}\"]/div/div/section[2]/div/div/div/div/div/div/div'\n",
    "                branch_name = driver.find_element(\"xpath\", branch_name_xpath)\n",
    "                branch_address = driver.find_element(\"xpath\", address_xpath)\n",
    "\n",
    "                data[\"id\"].append(id_num)\n",
    "                data[\"branch_name\"].append(branch_name.text)\n",
    "                data[\"branch_address\"].append(branch_address.text)\n",
    "            except:\n",
    "                pass\n",
    "\n",
    "        driver.quit()\n",
    "        print(\"STATUS: Driver quit\")\n",
    "        page += 1\n",
    "    except:\n",
    "        driver.quit()\n",
    "        print(\"STATUS: Page is not exist. Page has ended.\")\n",
    "        break\n",
    "# post id - 6000 - 8000 (possible to have out of range post_id)"
   ]
  },
  {
   "cell_type": "code",
   "execution_count": 10,
   "metadata": {},
   "outputs": [],
   "source": [
    "import pandas as pd\n",
    "\n",
    "df = pd.DataFrame(data)\n",
    "df.to_json(\"zus_data.json\", orient=\"records\")\n",
    "\n",
    "# NOTE\n",
    "# tak cukup 5 - total 19"
   ]
  }
 ],
 "metadata": {
  "kernelspec": {
   "display_name": "Python 3",
   "language": "python",
   "name": "python3"
  },
  "language_info": {
   "codemirror_mode": {
    "name": "ipython",
    "version": 3
   },
   "file_extension": ".py",
   "mimetype": "text/x-python",
   "name": "python",
   "nbconvert_exporter": "python",
   "pygments_lexer": "ipython3",
   "version": "3.9.6"
  }
 },
 "nbformat": 4,
 "nbformat_minor": 2
}
